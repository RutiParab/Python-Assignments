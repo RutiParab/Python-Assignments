{
 "cells": [
  {
   "cell_type": "markdown",
   "id": "8e0925ef",
   "metadata": {},
   "source": [
    "Q1)\n",
    "Values:'hello',-87.8,6\n",
    "Expressions: *,-,/,+"
   ]
  },
  {
   "cell_type": "markdown",
   "id": "5f71f812",
   "metadata": {},
   "source": [
    "Q2)\n",
    "variable can store any value it can be integer, string, float,etc. where as string takes values only in ''. Datatype of variable can vary depending on the value assigned but datatype of string is string only"
   ]
  },
  {
   "cell_type": "markdown",
   "id": "20f40970",
   "metadata": {},
   "source": [
    "Q3)\n",
    "String: It is written in ''. eg.'qwqe12@','1231534','True'\n",
    "integer: They are the numeric values. eg.134214\n",
    "Boolean: It has True & False values."
   ]
  },
  {
   "cell_type": "markdown",
   "id": "f2ff045e",
   "metadata": {},
   "source": [
    "Q4)\n",
    "expression is combination of operators & operands, its value needs to be evaluated and when we want to see the output we will have to execute print statement"
   ]
  },
  {
   "cell_type": "markdown",
   "id": "21aa6ac2",
   "metadata": {},
   "source": [
    "Q5)\n",
    "Expressions are interpreted using a compiler where as statements are standalone unit of execution"
   ]
  },
  {
   "cell_type": "code",
   "execution_count": 2,
   "id": "cf96008a",
   "metadata": {},
   "outputs": [
    {
     "data": {
      "text/plain": [
       "23"
      ]
     },
     "execution_count": 2,
     "metadata": {},
     "output_type": "execute_result"
    }
   ],
   "source": [
    "#Q6)\n",
    "bacon=22\n",
    "bacon+1"
   ]
  },
  {
   "cell_type": "code",
   "execution_count": 5,
   "id": "0579521d",
   "metadata": {},
   "outputs": [
    {
     "data": {
      "text/plain": [
       "'spamspamspam'"
      ]
     },
     "execution_count": 5,
     "metadata": {},
     "output_type": "execute_result"
    }
   ],
   "source": [
    "#Q7)\n",
    "'spam'+'spamspam'\n",
    "'spam'*3"
   ]
  },
  {
   "cell_type": "markdown",
   "id": "e6b16a92",
   "metadata": {},
   "source": [
    "Q8)\n",
    "varible name should either be alphabetic or starting with '_' it cannot be a numeric value. eg.egg=10,_egg=10"
   ]
  },
  {
   "cell_type": "markdown",
   "id": "17a92a83",
   "metadata": {},
   "source": [
    "Q9)\n",
    "for integer: int()\n",
    "for floating-point: float()\n",
    "for string: str()"
   ]
  },
  {
   "cell_type": "code",
   "execution_count": 7,
   "id": "1e337831",
   "metadata": {},
   "outputs": [
    {
     "data": {
      "text/plain": [
       "'I have eaten 99 burritos'"
      ]
     },
     "execution_count": 7,
     "metadata": {},
     "output_type": "execute_result"
    }
   ],
   "source": [
    "\"\"\"Q10)\n",
    "the expression causes an error because we cannot concatinate string and integer to fix this we have to convert integer to string\"\"\"\n",
    "\n",
    "'I have eaten'+' 99'+' burritos'"
   ]
  }
 ],
 "metadata": {
  "kernelspec": {
   "display_name": "Python 3 (ipykernel)",
   "language": "python",
   "name": "python3"
  },
  "language_info": {
   "codemirror_mode": {
    "name": "ipython",
    "version": 3
   },
   "file_extension": ".py",
   "mimetype": "text/x-python",
   "name": "python",
   "nbconvert_exporter": "python",
   "pygments_lexer": "ipython3",
   "version": "3.9.7"
  }
 },
 "nbformat": 4,
 "nbformat_minor": 5
}
