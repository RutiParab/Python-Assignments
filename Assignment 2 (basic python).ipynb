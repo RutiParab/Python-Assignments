{
 "cells": [
  {
   "cell_type": "markdown",
   "id": "c93705ca",
   "metadata": {},
   "source": [
    "Q1) \n",
    "The 2 values of boolean datatype are true and false and is written as True and False"
   ]
  },
  {
   "cell_type": "markdown",
   "id": "3ce09580",
   "metadata": {},
   "source": [
    "Q2)\n",
    "and, or, not"
   ]
  },
  {
   "cell_type": "code",
   "execution_count": null,
   "id": "af636453",
   "metadata": {},
   "outputs": [],
   "source": [
    "Q3)\n",
    "True and True = True\n",
    "False or False = False\n",
    "True!=False"
   ]
  },
  {
   "cell_type": "code",
   "execution_count": 11,
   "id": "dafd4e5c",
   "metadata": {},
   "outputs": [
    {
     "data": {
      "text/plain": [
       "(False, False, True, False, True)"
      ]
     },
     "execution_count": 11,
     "metadata": {},
     "output_type": "execute_result"
    }
   ],
   "source": [
    "#Q4)\n",
    "a=(5>4) and (3==5)\n",
    "b=not(5>4)\n",
    "c=(5>4) or (3==5)\n",
    "d=(True and True) and (True==False)\n",
    "e=(not False) or (not True)\n",
    "a,b,c,d,e"
   ]
  },
  {
   "cell_type": "markdown",
   "id": "e6c7cca6",
   "metadata": {},
   "source": [
    "Q5)\n",
    "<,>,=,>=,<=,!="
   ]
  },
  {
   "cell_type": "markdown",
   "id": "c991a20e",
   "metadata": {},
   "source": [
    "Q6)\n",
    "i)assignment operator is denoted by '=' on the other hand equal to is denoted by '==' \n",
    "ii) assignment operator assigns the value to the variable where as equal to checks the value"
   ]
  },
  {
   "cell_type": "code",
   "execution_count": 13,
   "id": "a91e8cc3",
   "metadata": {},
   "outputs": [
    {
     "name": "stdout",
     "output_type": "stream",
     "text": [
      "ham\n",
      "spam\n",
      "spam\n"
     ]
    }
   ],
   "source": [
    "#Q7)\n",
    "spam=0\n",
    "if spam==10:\n",
    "    print(\"eggs\")\n",
    "if spam >5:\n",
    "    print(\"bacon\")\n",
    "else:\n",
    "    print('ham')\n",
    "    print('spam')\n",
    "    print('spam')\n",
    "#the 3 blocks are if for '=10', if for '>5' and else"
   ]
  },
  {
   "cell_type": "code",
   "execution_count": 18,
   "id": "fd637ffe",
   "metadata": {},
   "outputs": [
    {
     "name": "stdout",
     "output_type": "stream",
     "text": [
      "Enter the no.: 4\n",
      "Greetings!\n"
     ]
    }
   ],
   "source": [
    "#Q8)\n",
    "spam=int(input('Enter the no.: '))\n",
    "if spam==1:\n",
    "    print('Hello')\n",
    "if spam==2:\n",
    "    print('howdy')\n",
    "elif 0<=spam>2:\n",
    "    print('Greetings!')"
   ]
  },
  {
   "cell_type": "markdown",
   "id": "f3eaa9cb",
   "metadata": {},
   "source": [
    "Q9)\n",
    "we can press interrupt the kernel button or we can press ctrl-c"
   ]
  },
  {
   "cell_type": "code",
   "execution_count": 28,
   "id": "f0ce4edf",
   "metadata": {},
   "outputs": [
    {
     "name": "stdout",
     "output_type": "stream",
     "text": [
      "skjeh\n",
      "skjeh\n"
     ]
    }
   ],
   "source": [
    "#Q10) break terminates the loop\n",
    "a='42765476'\n",
    "for i in a:\n",
    "    if i=='7':\n",
    "        break\n",
    "    print('skjeh')"
   ]
  },
  {
   "cell_type": "code",
   "execution_count": 29,
   "id": "32edd672",
   "metadata": {},
   "outputs": [
    {
     "name": "stdout",
     "output_type": "stream",
     "text": [
      "skjeh\n",
      "skjeh\n",
      "skjeh\n",
      "skjeh\n",
      "skjeh\n",
      "skjeh\n"
     ]
    }
   ],
   "source": [
    "#Q10) continue returns the control at beginning of the loop\n",
    "a='42765476'\n",
    "for i in a:\n",
    "    if i=='7':\n",
    "        continue\n",
    "    print('skjeh')"
   ]
  },
  {
   "cell_type": "markdown",
   "id": "2c543eb4",
   "metadata": {},
   "source": [
    "Q11)\n",
    "range comprises of 3 parts start point, end point and the jump or step size. In our case range(10), range(0,10) and range(0,10,1) are one and the same if 0 is replaced by any other number then the result will be different and in range(0,10,1) 1 is the step size if we replace it by any other number the output will varry."
   ]
  },
  {
   "cell_type": "code",
   "execution_count": 33,
   "id": "da34d003",
   "metadata": {},
   "outputs": [
    {
     "name": "stdout",
     "output_type": "stream",
     "text": [
      "1\n",
      "2\n",
      "3\n",
      "4\n",
      "5\n",
      "6\n",
      "7\n",
      "8\n",
      "9\n",
      "10\n"
     ]
    }
   ],
   "source": [
    "#Q12)\n",
    "for i in range(1,11):\n",
    "    print(i)"
   ]
  },
  {
   "cell_type": "code",
   "execution_count": 37,
   "id": "562316b1",
   "metadata": {},
   "outputs": [
    {
     "name": "stdout",
     "output_type": "stream",
     "text": [
      "1\n",
      "2\n",
      "3\n",
      "4\n",
      "5\n",
      "6\n",
      "7\n",
      "8\n",
      "9\n",
      "10\n"
     ]
    }
   ],
   "source": [
    "#Q12)\n",
    "i=1\n",
    "while i<=10:\n",
    "    print(i)\n",
    "    i+=1"
   ]
  },
  {
   "cell_type": "code",
   "execution_count": null,
   "id": "9429ff8a",
   "metadata": {},
   "outputs": [],
   "source": [
    "Q13)\n",
    "It can be called by spam.bacon()"
   ]
  }
 ],
 "metadata": {
  "kernelspec": {
   "display_name": "Python 3 (ipykernel)",
   "language": "python",
   "name": "python3"
  },
  "language_info": {
   "codemirror_mode": {
    "name": "ipython",
    "version": 3
   },
   "file_extension": ".py",
   "mimetype": "text/x-python",
   "name": "python",
   "nbconvert_exporter": "python",
   "pygments_lexer": "ipython3",
   "version": "3.9.7"
  }
 },
 "nbformat": 4,
 "nbformat_minor": 5
}
